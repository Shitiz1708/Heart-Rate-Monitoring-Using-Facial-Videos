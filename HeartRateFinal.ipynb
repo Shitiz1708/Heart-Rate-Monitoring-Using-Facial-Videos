{
  "nbformat": 4,
  "nbformat_minor": 0,
  "metadata": {
    "colab": {
      "name": "HeartRateFinal.ipynb",
      "provenance": [],
      "collapsed_sections": []
    },
    "kernelspec": {
      "name": "python3",
      "display_name": "Python 3"
    },
    "accelerator": "GPU"
  },
  "cells": [
    {
      "cell_type": "code",
      "metadata": {
        "id": "KM-o2yaxr7sC",
        "colab_type": "code",
        "colab": {}
      },
      "source": [
        "from google.colab import drive\n",
        "drive.mount('/content/drive')"
      ],
      "execution_count": null,
      "outputs": []
    },
    {
      "cell_type": "code",
      "metadata": {
        "id": "_WKkHKqYsE7r",
        "colab_type": "code",
        "colab": {
          "base_uri": "https://localhost:8080/",
          "height": 989
        },
        "outputId": "631b2f60-4fb9-4757-bd38-5dac89e3a6a8"
      },
      "source": [
        "!pip install h5py\n",
        "!pip install biosppy\n",
        "!pip install mtcnn\n",
        "# !pip install -U keras\n",
        "!pip install git+https://github.com/JihongJu/keras-resnet3d.git"
      ],
      "execution_count": null,
      "outputs": [
        {
          "output_type": "stream",
          "text": [
            "Requirement already satisfied: h5py in /usr/local/lib/python3.6/dist-packages (2.10.0)\n",
            "Requirement already satisfied: six in /usr/local/lib/python3.6/dist-packages (from h5py) (1.12.0)\n",
            "Requirement already satisfied: numpy>=1.7 in /usr/local/lib/python3.6/dist-packages (from h5py) (1.18.5)\n",
            "Collecting biosppy\n",
            "\u001b[?25l  Downloading https://files.pythonhosted.org/packages/b7/60/d09a277f9d31a2fc9190edf7e8a685c4f9b54b5dff487f523b916f441e1a/biosppy-0.6.1-py2.py3-none-any.whl (76kB)\n",
            "\u001b[K     |████████████████████████████████| 81kB 4.0MB/s \n",
            "\u001b[?25hCollecting bidict\n",
            "  Downloading https://files.pythonhosted.org/packages/50/fe/5a4abf8cc66616c8afe3b57e0cbdfe25e0e2507618b68fd747d221e1525f/bidict-0.19.0-py2.py3-none-any.whl\n",
            "Requirement already satisfied: six in /usr/local/lib/python3.6/dist-packages (from biosppy) (1.12.0)\n",
            "Requirement already satisfied: numpy in /usr/local/lib/python3.6/dist-packages (from biosppy) (1.18.5)\n",
            "Requirement already satisfied: matplotlib in /usr/local/lib/python3.6/dist-packages (from biosppy) (3.2.2)\n",
            "Requirement already satisfied: scipy in /usr/local/lib/python3.6/dist-packages (from biosppy) (1.4.1)\n",
            "Requirement already satisfied: scikit-learn in /usr/local/lib/python3.6/dist-packages (from biosppy) (0.22.2.post1)\n",
            "Collecting shortuuid\n",
            "  Downloading https://files.pythonhosted.org/packages/25/a6/2ecc1daa6a304e7f1b216f0896b26156b78e7c38e1211e9b798b4716c53d/shortuuid-1.0.1-py3-none-any.whl\n",
            "Requirement already satisfied: h5py in /usr/local/lib/python3.6/dist-packages (from biosppy) (2.10.0)\n",
            "Requirement already satisfied: cycler>=0.10 in /usr/local/lib/python3.6/dist-packages (from matplotlib->biosppy) (0.10.0)\n",
            "Requirement already satisfied: kiwisolver>=1.0.1 in /usr/local/lib/python3.6/dist-packages (from matplotlib->biosppy) (1.2.0)\n",
            "Requirement already satisfied: pyparsing!=2.0.4,!=2.1.2,!=2.1.6,>=2.0.1 in /usr/local/lib/python3.6/dist-packages (from matplotlib->biosppy) (2.4.7)\n",
            "Requirement already satisfied: python-dateutil>=2.1 in /usr/local/lib/python3.6/dist-packages (from matplotlib->biosppy) (2.8.1)\n",
            "Requirement already satisfied: joblib>=0.11 in /usr/local/lib/python3.6/dist-packages (from scikit-learn->biosppy) (0.15.1)\n",
            "Installing collected packages: bidict, shortuuid, biosppy\n",
            "Successfully installed bidict-0.19.0 biosppy-0.6.1 shortuuid-1.0.1\n",
            "Collecting mtcnn\n",
            "\u001b[?25l  Downloading https://files.pythonhosted.org/packages/67/43/abee91792797c609c1bf30f1112117f7a87a713ebaa6ec5201d5555a73ef/mtcnn-0.1.0-py3-none-any.whl (2.3MB)\n",
            "\u001b[K     |████████████████████████████████| 2.3MB 7.8MB/s \n",
            "\u001b[?25hRequirement already satisfied: keras>=2.0.0 in /usr/local/lib/python3.6/dist-packages (from mtcnn) (2.3.1)\n",
            "Requirement already satisfied: opencv-python>=4.1.0 in /usr/local/lib/python3.6/dist-packages (from mtcnn) (4.1.2.30)\n",
            "Requirement already satisfied: h5py in /usr/local/lib/python3.6/dist-packages (from keras>=2.0.0->mtcnn) (2.10.0)\n",
            "Requirement already satisfied: pyyaml in /usr/local/lib/python3.6/dist-packages (from keras>=2.0.0->mtcnn) (3.13)\n",
            "Requirement already satisfied: keras-applications>=1.0.6 in /usr/local/lib/python3.6/dist-packages (from keras>=2.0.0->mtcnn) (1.0.8)\n",
            "Requirement already satisfied: six>=1.9.0 in /usr/local/lib/python3.6/dist-packages (from keras>=2.0.0->mtcnn) (1.12.0)\n",
            "Requirement already satisfied: keras-preprocessing>=1.0.5 in /usr/local/lib/python3.6/dist-packages (from keras>=2.0.0->mtcnn) (1.1.2)\n",
            "Requirement already satisfied: scipy>=0.14 in /usr/local/lib/python3.6/dist-packages (from keras>=2.0.0->mtcnn) (1.4.1)\n",
            "Requirement already satisfied: numpy>=1.9.1 in /usr/local/lib/python3.6/dist-packages (from keras>=2.0.0->mtcnn) (1.18.5)\n",
            "Installing collected packages: mtcnn\n",
            "Successfully installed mtcnn-0.1.0\n",
            "Collecting git+https://github.com/JihongJu/keras-resnet3d.git\n",
            "  Cloning https://github.com/JihongJu/keras-resnet3d.git to /tmp/pip-req-build-an43oo7s\n",
            "  Running command git clone -q https://github.com/JihongJu/keras-resnet3d.git /tmp/pip-req-build-an43oo7s\n",
            "  Running command git submodule update --init --recursive -q\n",
            "Requirement already satisfied: keras>=2.0.0 in /usr/local/lib/python3.6/dist-packages (from keras-resnet3d==0.0.1) (2.3.1)\n",
            "Requirement already satisfied: keras-applications>=1.0.6 in /usr/local/lib/python3.6/dist-packages (from keras>=2.0.0->keras-resnet3d==0.0.1) (1.0.8)\n",
            "Requirement already satisfied: scipy>=0.14 in /usr/local/lib/python3.6/dist-packages (from keras>=2.0.0->keras-resnet3d==0.0.1) (1.4.1)\n",
            "Requirement already satisfied: numpy>=1.9.1 in /usr/local/lib/python3.6/dist-packages (from keras>=2.0.0->keras-resnet3d==0.0.1) (1.18.5)\n",
            "Requirement already satisfied: h5py in /usr/local/lib/python3.6/dist-packages (from keras>=2.0.0->keras-resnet3d==0.0.1) (2.10.0)\n",
            "Requirement already satisfied: pyyaml in /usr/local/lib/python3.6/dist-packages (from keras>=2.0.0->keras-resnet3d==0.0.1) (3.13)\n",
            "Requirement already satisfied: six>=1.9.0 in /usr/local/lib/python3.6/dist-packages (from keras>=2.0.0->keras-resnet3d==0.0.1) (1.12.0)\n",
            "Requirement already satisfied: keras-preprocessing>=1.0.5 in /usr/local/lib/python3.6/dist-packages (from keras>=2.0.0->keras-resnet3d==0.0.1) (1.1.2)\n",
            "Building wheels for collected packages: keras-resnet3d\n",
            "  Building wheel for keras-resnet3d (setup.py) ... \u001b[?25l\u001b[?25hdone\n",
            "  Created wheel for keras-resnet3d: filename=keras_resnet3d-0.0.1-cp36-none-any.whl size=4773 sha256=5a33867b031d2c768eb338371c6085021999e3cd673bdfc3b313d7c2c0b4000d\n",
            "  Stored in directory: /tmp/pip-ephem-wheel-cache-pfg6shra/wheels/98/fa/00/0dfe23f54c8f40a14c53f355effb4b198f7727d6d7f05be8b1\n",
            "Successfully built keras-resnet3d\n",
            "Installing collected packages: keras-resnet3d\n",
            "Successfully installed keras-resnet3d-0.0.1\n"
          ],
          "name": "stdout"
        }
      ]
    },
    {
      "cell_type": "code",
      "metadata": {
        "id": "-F6SSj0hsbC9",
        "colab_type": "code",
        "colab": {
          "base_uri": "https://localhost:8080/",
          "height": 34
        },
        "outputId": "60d03d73-7d82-494b-d6e5-61a3f723cdb8"
      },
      "source": [
        "import numpy as np\n",
        "import matplotlib.pyplot as plt\n",
        "import cv2\n",
        "import os\n",
        "import h5py\n",
        "import biosppy\n",
        "from mtcnn.mtcnn import MTCNN\n",
        "from tqdm import tqdm"
      ],
      "execution_count": null,
      "outputs": [
        {
          "output_type": "stream",
          "text": [
            "Using TensorFlow backend.\n"
          ],
          "name": "stderr"
        }
      ]
    },
    {
      "cell_type": "code",
      "metadata": {
        "id": "eUNziEb0i8Ne",
        "colab_type": "code",
        "colab": {}
      },
      "source": [
        "detector = MTCNN()\n",
        "class FaceAligner:\n",
        "    def __init__(self, desiredLeftEye=(0.35, 0.35),\n",
        "        desiredFaceWidth=256, desiredFaceHeight=None):\n",
        "        self.desiredLeftEye = desiredLeftEye\n",
        "        self.desiredFaceWidth = desiredFaceWidth\n",
        "        self.desiredFaceHeight = desiredFaceHeight\n",
        "        if self.desiredFaceHeight is None:\n",
        "            self.desiredFaceHeight = self.desiredFaceWidth\n",
        "    def align(self, image):\n",
        "        result = detector.detect_faces(image)\n",
        "        leftEyeCenter = result[0][\"keypoints\"][\"left_eye\"]\n",
        "        rightEyeCenter = result[0][\"keypoints\"][\"right_eye\"]\n",
        "        \n",
        "        dY = rightEyeCenter[1] - leftEyeCenter[1]\n",
        "        dX = rightEyeCenter[0] - leftEyeCenter[0]\n",
        "        angle = np.degrees(np.arctan2(dY, dX))\n",
        "        \n",
        "        \n",
        "        desiredRightEyeX = 1.0 - self.desiredLeftEye[0]\n",
        " \n",
        "        dist = np.sqrt((dX ** 2) + (dY ** 2))\n",
        "        desiredDist = (desiredRightEyeX - self.desiredLeftEye[0])\n",
        "        desiredDist *= self.desiredFaceWidth\n",
        "        scale = desiredDist / dist\n",
        "        \n",
        "        eyesCenter = ((leftEyeCenter[0] + rightEyeCenter[0]) // 2,\n",
        "            (leftEyeCenter[1] + rightEyeCenter[1]) // 2)\n",
        " \n",
        "        M = cv2.getRotationMatrix2D(eyesCenter, angle, scale)\n",
        " \n",
        "        tX = self.desiredFaceWidth * 0.5\n",
        "        tY = self.desiredFaceHeight * self.desiredLeftEye[1]\n",
        "        M[0, 2] += (tX - eyesCenter[0])\n",
        "        M[1, 2] += (tY - eyesCenter[1])\n",
        "        (w, h) = (self.desiredFaceWidth, self.desiredFaceHeight)\n",
        "        output = cv2.warpAffine(image, M, (w, h),\n",
        "            flags=cv2.INTER_CUBIC)\n",
        "        return output"
      ],
      "execution_count": null,
      "outputs": []
    },
    {
      "cell_type": "code",
      "metadata": {
        "id": "V0DZwDfTjA-g",
        "colab_type": "code",
        "colab": {}
      },
      "source": [
        "aligner = FaceAligner(desiredLeftEye=(.25,.25),desiredFaceHeight=400)\n",
        "\n",
        "base_path=\"/content/drive/My Drive/cohface/\"\n",
        "X_train_1 = []\n",
        "X_train_2 = []\n",
        "# X_train_3 = []\n",
        "y_train = []\n",
        "\n",
        "#TODO: Consider the possibility of taking only green channel\n",
        "\n",
        "def framing(folderImages,window_size=20,stride=10):\n",
        "    num_images = len(folderImages)\n",
        "    meta_frames = int(np.floor((num_images-window_size)/stride)) + 1\n",
        "    output = []\n",
        "    for i in range(meta_frames):\n",
        "        imgs=[]\n",
        "        for j in range(i*stride,window_size+i*stride):\n",
        "            imgs.append(folderImages[j])\n",
        "        output.append(imgs)\n",
        "    return output\n",
        "\n",
        "def extract_heartrate(signal_path):\n",
        "    with h5py.File(signal_path,\"r\") as f:\n",
        "        pulse,time = list(f['pulse']),list(f['time'])\n",
        "    ts,filtered,onsets,heart_rate_ts,heart_rate = biosppy.signals.bvp.bvp(pulse,sampling_rate=256,show=False)\n",
        "    hr = np.mean(heart_rate)\n",
        "    return hr\n",
        "\n",
        "def extract_features(video_path,signal_path):\n",
        "  cap = cv2.VideoCapture(video_path)\n",
        "  X_video_1 = []\n",
        "  X_video_2 = []\n",
        "  X_video_3 = []\n",
        "  count=0\n",
        "  numFrames = 100\n",
        "  while(cap.isOpened()):\n",
        "    ret, frame = cap.read()\n",
        "    if(ret and count<numFrames):\n",
        "      try:\n",
        "        frame = aligner.align(frame)\n",
        "        frame = frame/255.0\n",
        "        frame = np.array(frame,dtype='float16')\n",
        "        frame[:,:,0] = 0\n",
        "        frame[:,:,2] = 0\n",
        "        ROI_1 =frame[:int(frame.shape[0]*0.15),:,:]\n",
        "        ROI_2 = frame[int(frame.shape[0]*0.3):int(frame.shape[0]*0.45),:,:]\n",
        "        X_video_1.append(ROI_1)\n",
        "        X_video_2.append(ROI_2)\n",
        "        # X_video_3.append(frame)\n",
        "        count+=1\n",
        "      except:\n",
        "        pass\n",
        "    else:\n",
        "      break\n",
        "  if len(X_video_1)==numFrames:\n",
        "    X_train_1.append(framing(X_video_1))\n",
        "    X_train_2.append(framing(X_video_2))\n",
        "    # X_train_3.append(framing(X_video_3))\n",
        "    heart_rate = extract_heartrate(signal_path)\n",
        "    # print(heart_rate)\n",
        "    y_train.append(heart_rate)\n",
        "\n",
        "\n",
        "#Add a check if data exist dont perform the data preprocessing\n",
        "for paths in tqdm(sorted(os.listdir(base_path))):\n",
        "    for folder in sorted(os.listdir(base_path+paths))[:2]:\n",
        "        signal_path = base_path+paths+'/'+folder + '/data.hdf5'\n",
        "        video_path = base_path+paths+'/'+folder + '/data.avi'\n",
        "        extract_features(video_path,signal_path)\n",
        "\n",
        "X_train_1 = np.array(X_train_1)\n",
        "np.save('/content/drive/My Drive/Preprocessed_data/X_train_1(forehead_framed_green).npy',X_train_1)\n",
        "print(X_train_1.shape)\n",
        "X_train_2 = np.array(X_train_2)\n",
        "np.save('/content/drive/My Drive/Preprocessed_data/X_train_2(cheeks_framed_green).npy',X_train_2)\n",
        "print(X_train_2.shape)\n",
        "# X_train_3 = np.array(X_train_3)\n",
        "# np.save('/content/drive/My Drive/Preprocessed_data/X_train_3(face_framed).npy',X_train_3)\n",
        "# print(X_train_3.shape)\n",
        "y_train = np.array(y_train)\n",
        "np.save('/content/drive/My Drive/Preprocessed_data/y_train(mean_green).npy',y_train)\n",
        "print(y_train.shape)"
      ],
      "execution_count": null,
      "outputs": []
    },
    {
      "cell_type": "code",
      "metadata": {
        "id": "eOlTOAHmvoFU",
        "colab_type": "code",
        "colab": {
          "base_uri": "https://localhost:8080/",
          "height": 34
        },
        "outputId": "eef0b96d-eb69-42c9-9d5d-0e366613abf3"
      },
      "source": [
        "np.unique(X_train_1[1][0][0][:,:,0])"
      ],
      "execution_count": null,
      "outputs": [
        {
          "output_type": "execute_result",
          "data": {
            "text/plain": [
              "array([0.], dtype=float16)"
            ]
          },
          "metadata": {
            "tags": []
          },
          "execution_count": 31
        }
      ]
    },
    {
      "cell_type": "code",
      "metadata": {
        "id": "qaFpPTLPMCT0",
        "colab_type": "code",
        "colab": {
          "base_uri": "https://localhost:8080/",
          "height": 68
        },
        "outputId": "d4e88928-8025-4adf-ff35-dda024629d96"
      },
      "source": [
        "X_train_1 = np.load('/content/drive/My Drive/Preprocessed_data/X_train_1(forehead_framed_green).npy')\n",
        "print(X_train_1.shape)\n",
        "X_train_2 = np.load('/content/drive/My Drive/Preprocessed_data/X_train_2(cheeks_framed_green).npy')\n",
        "print(X_train_2.shape)\n",
        "y_train = np.load('/content/drive/My Drive/Preprocessed_data/y_train(mean_green).npy')\n",
        "print(y_train.shape)"
      ],
      "execution_count": null,
      "outputs": [
        {
          "output_type": "stream",
          "text": [
            "(77, 9, 20, 60, 256, 3)\n",
            "(77, 9, 20, 60, 256, 3)\n",
            "(77,)\n"
          ],
          "name": "stdout"
        }
      ]
    },
    {
      "cell_type": "code",
      "metadata": {
        "id": "Ud9GciOOvwQG",
        "colab_type": "code",
        "colab": {}
      },
      "source": [
        "import keras\n",
        "from keras import backend as K\n",
        "from keras.layers import Dense,LSTM,Bidirectional,TimeDistributed,Input,GlobalAveragePooling1D,Flatten,Average,AveragePooling1D,Conv2D,Conv3D,concatenate,MaxPooling2D,GlobalAveragePooling2D\n",
        "from keras.models import Model\n",
        "from keras.callbacks import EarlyStopping,ModelCheckpoint\n",
        "from keras.utils import plot_model\n",
        "from keras.optimizers import RMSprop,Adam\n",
        "from resnet3d import Resnet3DBuilder"
      ],
      "execution_count": null,
      "outputs": []
    },
    {
      "cell_type": "code",
      "metadata": {
        "id": "yryQJmHZo7n5",
        "colab_type": "code",
        "colab": {}
      },
      "source": [
        "from keras.models import load_model\n",
        "resnet3dmodel = load_model('/content/drive/My Drive/models/model_normalized.h5')\n",
        "last_layer = resnet3dmodel.layers[-2]\n",
        "base_model_1 = Model(inputs = resnet3dmodel.input, outputs=last_layer.output)\n",
        "\n",
        "for layer in base_model_1.layers:\n",
        "  layer.trainable = False\n",
        "\n",
        "base_model_1.summary()"
      ],
      "execution_count": null,
      "outputs": []
    },
    {
      "cell_type": "code",
      "metadata": {
        "id": "YFRWl32VwmNE",
        "colab_type": "code",
        "colab": {
          "base_uri": "https://localhost:8080/",
          "height": 34
        },
        "outputId": "1a52f7f4-64ef-46a6-ab03-cf718b08d373"
      },
      "source": [
        "X_train_1.shape\n",
        "from sklearn.utils import shuffle\n",
        "X_train_1,X_train_2,y_train = shuffle(X_train_1,X_train_2,y_train,random_state=0)\n",
        "X_train_1.shape"
      ],
      "execution_count": null,
      "outputs": [
        {
          "output_type": "execute_result",
          "data": {
            "text/plain": [
              "(77, 9, 20, 60, 256, 3)"
            ]
          },
          "metadata": {
            "tags": []
          },
          "execution_count": 6
        }
      ]
    },
    {
      "cell_type": "code",
      "metadata": {
        "id": "r6RImbxr4dda",
        "colab_type": "code",
        "colab": {}
      },
      "source": [
        "from sklearn.model_selection import train_test_split\n",
        "X_train_1,X_test_1,y_train,y_test = train_test_split(X_train_1,y_train,test_size=0.1)"
      ],
      "execution_count": null,
      "outputs": []
    },
    {
      "cell_type": "code",
      "metadata": {
        "id": "rQ4P_Zf85ES5",
        "colab_type": "code",
        "colab": {
          "base_uri": "https://localhost:8080/",
          "height": 34
        },
        "outputId": "a69ae99a-2f3a-4dda-e853-f8dfc38cd7f5"
      },
      "source": [
        "print(X_train_1.shape)"
      ],
      "execution_count": null,
      "outputs": [
        {
          "output_type": "stream",
          "text": [
            "(69, 9, 20, 60, 256, 3)\n"
          ],
          "name": "stdout"
        }
      ]
    },
    {
      "cell_type": "code",
      "metadata": {
        "id": "THKyf5Bkxq_k",
        "colab_type": "code",
        "colab": {
          "base_uri": "https://localhost:8080/",
          "height": 1000
        },
        "outputId": "c94ef61c-48a2-4a0c-fdcd-dc35a784d6c1"
      },
      "source": [
        "input_shape = X_train_1.shape\n",
        "#Building ResNet3D 18-layers\n",
        "resnet3dmodel = Resnet3DBuilder.build_resnet_18((input_shape[-4], input_shape[-3], input_shape[-2], input_shape[-1]), 1)\n",
        "last_layer = resnet3dmodel.layers[-2]\n",
        "# dense = Dense(1,activation='relu')(last_layer.output)\n",
        "base_model_1 = Model(inputs = resnet3dmodel.input, outputs=last_layer.output)\n",
        "# plot_model(base_model_1,to_file= 'base_model_1.png')\n",
        "base_model_1.summary()"
      ],
      "execution_count": null,
      "outputs": [
        {
          "output_type": "stream",
          "text": [
            "Model: \"model_2\"\n",
            "__________________________________________________________________________________________________\n",
            "Layer (type)                    Output Shape         Param #     Connected to                     \n",
            "==================================================================================================\n",
            "input_1 (InputLayer)            (None, 20, 60, 256,  0                                            \n",
            "__________________________________________________________________________________________________\n",
            "conv3d_1 (Conv3D)               (None, 10, 30, 128,  65920       input_1[0][0]                    \n",
            "__________________________________________________________________________________________________\n",
            "batch_normalization_1 (BatchNor (None, 10, 30, 128,  256         conv3d_1[0][0]                   \n",
            "__________________________________________________________________________________________________\n",
            "activation_1 (Activation)       (None, 10, 30, 128,  0           batch_normalization_1[0][0]      \n",
            "__________________________________________________________________________________________________\n",
            "max_pooling3d_1 (MaxPooling3D)  (None, 5, 15, 64, 64 0           activation_1[0][0]               \n",
            "__________________________________________________________________________________________________\n",
            "conv3d_2 (Conv3D)               (None, 5, 15, 64, 64 110656      max_pooling3d_1[0][0]            \n",
            "__________________________________________________________________________________________________\n",
            "batch_normalization_2 (BatchNor (None, 5, 15, 64, 64 256         conv3d_2[0][0]                   \n",
            "__________________________________________________________________________________________________\n",
            "activation_2 (Activation)       (None, 5, 15, 64, 64 0           batch_normalization_2[0][0]      \n",
            "__________________________________________________________________________________________________\n",
            "conv3d_3 (Conv3D)               (None, 5, 15, 64, 64 110656      activation_2[0][0]               \n",
            "__________________________________________________________________________________________________\n",
            "add_1 (Add)                     (None, 5, 15, 64, 64 0           max_pooling3d_1[0][0]            \n",
            "                                                                 conv3d_3[0][0]                   \n",
            "__________________________________________________________________________________________________\n",
            "batch_normalization_3 (BatchNor (None, 5, 15, 64, 64 256         add_1[0][0]                      \n",
            "__________________________________________________________________________________________________\n",
            "activation_3 (Activation)       (None, 5, 15, 64, 64 0           batch_normalization_3[0][0]      \n",
            "__________________________________________________________________________________________________\n",
            "conv3d_4 (Conv3D)               (None, 5, 15, 64, 64 110656      activation_3[0][0]               \n",
            "__________________________________________________________________________________________________\n",
            "batch_normalization_4 (BatchNor (None, 5, 15, 64, 64 256         conv3d_4[0][0]                   \n",
            "__________________________________________________________________________________________________\n",
            "activation_4 (Activation)       (None, 5, 15, 64, 64 0           batch_normalization_4[0][0]      \n",
            "__________________________________________________________________________________________________\n",
            "conv3d_5 (Conv3D)               (None, 5, 15, 64, 64 110656      activation_4[0][0]               \n",
            "__________________________________________________________________________________________________\n",
            "add_2 (Add)                     (None, 5, 15, 64, 64 0           add_1[0][0]                      \n",
            "                                                                 conv3d_5[0][0]                   \n",
            "__________________________________________________________________________________________________\n",
            "batch_normalization_5 (BatchNor (None, 5, 15, 64, 64 256         add_2[0][0]                      \n",
            "__________________________________________________________________________________________________\n",
            "activation_5 (Activation)       (None, 5, 15, 64, 64 0           batch_normalization_5[0][0]      \n",
            "__________________________________________________________________________________________________\n",
            "conv3d_6 (Conv3D)               (None, 3, 8, 32, 128 221312      activation_5[0][0]               \n",
            "__________________________________________________________________________________________________\n",
            "batch_normalization_6 (BatchNor (None, 3, 8, 32, 128 512         conv3d_6[0][0]                   \n",
            "__________________________________________________________________________________________________\n",
            "activation_6 (Activation)       (None, 3, 8, 32, 128 0           batch_normalization_6[0][0]      \n",
            "__________________________________________________________________________________________________\n",
            "conv3d_8 (Conv3D)               (None, 3, 8, 32, 128 8320        add_2[0][0]                      \n",
            "__________________________________________________________________________________________________\n",
            "conv3d_7 (Conv3D)               (None, 3, 8, 32, 128 442496      activation_6[0][0]               \n",
            "__________________________________________________________________________________________________\n",
            "add_3 (Add)                     (None, 3, 8, 32, 128 0           conv3d_8[0][0]                   \n",
            "                                                                 conv3d_7[0][0]                   \n",
            "__________________________________________________________________________________________________\n",
            "batch_normalization_7 (BatchNor (None, 3, 8, 32, 128 512         add_3[0][0]                      \n",
            "__________________________________________________________________________________________________\n",
            "activation_7 (Activation)       (None, 3, 8, 32, 128 0           batch_normalization_7[0][0]      \n",
            "__________________________________________________________________________________________________\n",
            "conv3d_9 (Conv3D)               (None, 3, 8, 32, 128 442496      activation_7[0][0]               \n",
            "__________________________________________________________________________________________________\n",
            "batch_normalization_8 (BatchNor (None, 3, 8, 32, 128 512         conv3d_9[0][0]                   \n",
            "__________________________________________________________________________________________________\n",
            "activation_8 (Activation)       (None, 3, 8, 32, 128 0           batch_normalization_8[0][0]      \n",
            "__________________________________________________________________________________________________\n",
            "conv3d_10 (Conv3D)              (None, 3, 8, 32, 128 442496      activation_8[0][0]               \n",
            "__________________________________________________________________________________________________\n",
            "add_4 (Add)                     (None, 3, 8, 32, 128 0           add_3[0][0]                      \n",
            "                                                                 conv3d_10[0][0]                  \n",
            "__________________________________________________________________________________________________\n",
            "batch_normalization_9 (BatchNor (None, 3, 8, 32, 128 512         add_4[0][0]                      \n",
            "__________________________________________________________________________________________________\n",
            "activation_9 (Activation)       (None, 3, 8, 32, 128 0           batch_normalization_9[0][0]      \n",
            "__________________________________________________________________________________________________\n",
            "conv3d_11 (Conv3D)              (None, 2, 4, 16, 256 884992      activation_9[0][0]               \n",
            "__________________________________________________________________________________________________\n",
            "batch_normalization_10 (BatchNo (None, 2, 4, 16, 256 1024        conv3d_11[0][0]                  \n",
            "__________________________________________________________________________________________________\n",
            "activation_10 (Activation)      (None, 2, 4, 16, 256 0           batch_normalization_10[0][0]     \n",
            "__________________________________________________________________________________________________\n",
            "conv3d_13 (Conv3D)              (None, 2, 4, 16, 256 33024       add_4[0][0]                      \n",
            "__________________________________________________________________________________________________\n",
            "conv3d_12 (Conv3D)              (None, 2, 4, 16, 256 1769728     activation_10[0][0]              \n",
            "__________________________________________________________________________________________________\n",
            "add_5 (Add)                     (None, 2, 4, 16, 256 0           conv3d_13[0][0]                  \n",
            "                                                                 conv3d_12[0][0]                  \n",
            "__________________________________________________________________________________________________\n",
            "batch_normalization_11 (BatchNo (None, 2, 4, 16, 256 1024        add_5[0][0]                      \n",
            "__________________________________________________________________________________________________\n",
            "activation_11 (Activation)      (None, 2, 4, 16, 256 0           batch_normalization_11[0][0]     \n",
            "__________________________________________________________________________________________________\n",
            "conv3d_14 (Conv3D)              (None, 2, 4, 16, 256 1769728     activation_11[0][0]              \n",
            "__________________________________________________________________________________________________\n",
            "batch_normalization_12 (BatchNo (None, 2, 4, 16, 256 1024        conv3d_14[0][0]                  \n",
            "__________________________________________________________________________________________________\n",
            "activation_12 (Activation)      (None, 2, 4, 16, 256 0           batch_normalization_12[0][0]     \n",
            "__________________________________________________________________________________________________\n",
            "conv3d_15 (Conv3D)              (None, 2, 4, 16, 256 1769728     activation_12[0][0]              \n",
            "__________________________________________________________________________________________________\n",
            "add_6 (Add)                     (None, 2, 4, 16, 256 0           add_5[0][0]                      \n",
            "                                                                 conv3d_15[0][0]                  \n",
            "__________________________________________________________________________________________________\n",
            "batch_normalization_13 (BatchNo (None, 2, 4, 16, 256 1024        add_6[0][0]                      \n",
            "__________________________________________________________________________________________________\n",
            "activation_13 (Activation)      (None, 2, 4, 16, 256 0           batch_normalization_13[0][0]     \n",
            "__________________________________________________________________________________________________\n",
            "conv3d_16 (Conv3D)              (None, 1, 2, 8, 512) 3539456     activation_13[0][0]              \n",
            "__________________________________________________________________________________________________\n",
            "batch_normalization_14 (BatchNo (None, 1, 2, 8, 512) 2048        conv3d_16[0][0]                  \n",
            "__________________________________________________________________________________________________\n",
            "activation_14 (Activation)      (None, 1, 2, 8, 512) 0           batch_normalization_14[0][0]     \n",
            "__________________________________________________________________________________________________\n",
            "conv3d_18 (Conv3D)              (None, 1, 2, 8, 512) 131584      add_6[0][0]                      \n",
            "__________________________________________________________________________________________________\n",
            "conv3d_17 (Conv3D)              (None, 1, 2, 8, 512) 7078400     activation_14[0][0]              \n",
            "__________________________________________________________________________________________________\n",
            "add_7 (Add)                     (None, 1, 2, 8, 512) 0           conv3d_18[0][0]                  \n",
            "                                                                 conv3d_17[0][0]                  \n",
            "__________________________________________________________________________________________________\n",
            "batch_normalization_15 (BatchNo (None, 1, 2, 8, 512) 2048        add_7[0][0]                      \n",
            "__________________________________________________________________________________________________\n",
            "activation_15 (Activation)      (None, 1, 2, 8, 512) 0           batch_normalization_15[0][0]     \n",
            "__________________________________________________________________________________________________\n",
            "conv3d_19 (Conv3D)              (None, 1, 2, 8, 512) 7078400     activation_15[0][0]              \n",
            "__________________________________________________________________________________________________\n",
            "batch_normalization_16 (BatchNo (None, 1, 2, 8, 512) 2048        conv3d_19[0][0]                  \n",
            "__________________________________________________________________________________________________\n",
            "activation_16 (Activation)      (None, 1, 2, 8, 512) 0           batch_normalization_16[0][0]     \n",
            "__________________________________________________________________________________________________\n",
            "conv3d_20 (Conv3D)              (None, 1, 2, 8, 512) 7078400     activation_16[0][0]              \n",
            "__________________________________________________________________________________________________\n",
            "add_8 (Add)                     (None, 1, 2, 8, 512) 0           add_7[0][0]                      \n",
            "                                                                 conv3d_20[0][0]                  \n",
            "__________________________________________________________________________________________________\n",
            "batch_normalization_17 (BatchNo (None, 1, 2, 8, 512) 2048        add_8[0][0]                      \n",
            "__________________________________________________________________________________________________\n",
            "activation_17 (Activation)      (None, 1, 2, 8, 512) 0           batch_normalization_17[0][0]     \n",
            "__________________________________________________________________________________________________\n",
            "average_pooling3d_1 (AveragePoo (None, 1, 1, 1, 512) 0           activation_17[0][0]              \n",
            "__________________________________________________________________________________________________\n",
            "flatten_1 (Flatten)             (None, 512)          0           average_pooling3d_1[0][0]        \n",
            "==================================================================================================\n",
            "Total params: 33,214,720\n",
            "Trainable params: 33,206,912\n",
            "Non-trainable params: 7,808\n",
            "__________________________________________________________________________________________________\n"
          ],
          "name": "stdout"
        }
      ]
    },
    {
      "cell_type": "code",
      "metadata": {
        "id": "PFlZTplZCkmA",
        "colab_type": "code",
        "colab": {}
      },
      "source": [
        "def root_mean_squared_error(y_true, y_pred):\n",
        "        return K.sqrt(K.mean(K.square(y_pred - y_true)))"
      ],
      "execution_count": null,
      "outputs": []
    },
    {
      "cell_type": "code",
      "metadata": {
        "id": "xhGUrS_PykiM",
        "colab_type": "code",
        "colab": {
          "base_uri": "https://localhost:8080/",
          "height": 408
        },
        "outputId": "161cba66-a903-4366-8d23-62f610630b7f"
      },
      "source": [
        "input_shape = X_train_1.shape\n",
        "inputs = Input(shape=input_shape[1:])\n",
        "print(inputs)\n",
        "resnet = TimeDistributed(base_model_1)(inputs)\n",
        "print(resnet)\n",
        "lstm = LSTM(1024,return_sequences=True)(resnet)\n",
        "print(lstm)\n",
        "dense = Dense(1)(lstm)\n",
        "print(dense)\n",
        "pooling = GlobalAveragePooling1D()(dense)\n",
        "print(pooling)\n",
        "base_model = Model(inputs=inputs,outputs=pooling)\n",
        "plot_model(base_model,to_file= 'model.png')\n",
        "base_model.compile(optimizer='adam',loss='mean_absolute_error',metrics=['mean_absolute_error','mean_squared_error'])\n",
        "base_model.summary()"
      ],
      "execution_count": null,
      "outputs": [
        {
          "output_type": "stream",
          "text": [
            "Tensor(\"input_2:0\", shape=(None, 9, 20, 60, 256, 3), dtype=float32)\n",
            "Tensor(\"time_distributed_1/Reshape_1:0\", shape=(None, 9, 512), dtype=float32)\n",
            "Tensor(\"lstm_1/transpose_1:0\", shape=(None, 9, 1024), dtype=float32)\n",
            "Tensor(\"dense_2/add:0\", shape=(None, 9, 1), dtype=float32)\n",
            "Tensor(\"global_average_pooling1d_1/Mean:0\", shape=(None, 1), dtype=float32)\n",
            "Model: \"model_3\"\n",
            "_________________________________________________________________\n",
            "Layer (type)                 Output Shape              Param #   \n",
            "=================================================================\n",
            "input_2 (InputLayer)         (None, 9, 20, 60, 256, 3) 0         \n",
            "_________________________________________________________________\n",
            "time_distributed_1 (TimeDist (None, 9, 512)            33214720  \n",
            "_________________________________________________________________\n",
            "lstm_1 (LSTM)                (None, 9, 1024)           6295552   \n",
            "_________________________________________________________________\n",
            "dense_2 (Dense)              (None, 9, 1)              1025      \n",
            "_________________________________________________________________\n",
            "global_average_pooling1d_1 ( (None, 1)                 0         \n",
            "=================================================================\n",
            "Total params: 39,511,297\n",
            "Trainable params: 39,503,489\n",
            "Non-trainable params: 7,808\n",
            "_________________________________________________________________\n"
          ],
          "name": "stdout"
        }
      ]
    },
    {
      "cell_type": "code",
      "metadata": {
        "id": "Txm80nn05PVZ",
        "colab_type": "code",
        "colab": {
          "base_uri": "https://localhost:8080/",
          "height": 1000
        },
        "outputId": "3646994c-681b-4f87-9bb2-c671f63221a5"
      },
      "source": [
        "base_model.fit(X_train_1,y_train.reshape(-1,1),epochs=40,batch_size=6,validation_split=0.1)"
      ],
      "execution_count": null,
      "outputs": [
        {
          "output_type": "stream",
          "text": [
            "Train on 62 samples, validate on 7 samples\n",
            "Epoch 1/40\n",
            "62/62 [==============================] - 46s 736ms/step - loss: 49.4081 - mean_absolute_error: 48.5182 - mean_squared_error: 2777.1731 - val_loss: 28.0040 - val_mean_absolute_error: 27.2115 - val_mean_squared_error: 813.1622\n",
            "Epoch 2/40\n",
            "62/62 [==============================] - 30s 480ms/step - loss: 26.3596 - mean_absolute_error: 25.6201 - mean_squared_error: 897.3685 - val_loss: 16.7805 - val_mean_absolute_error: 16.0979 - val_mean_squared_error: 332.0302\n",
            "Epoch 3/40\n",
            "62/62 [==============================] - 30s 481ms/step - loss: 15.9140 - mean_absolute_error: 15.2601 - mean_squared_error: 434.2666 - val_loss: 9.7617 - val_mean_absolute_error: 9.1423 - val_mean_squared_error: 123.0045\n",
            "Epoch 4/40\n",
            "62/62 [==============================] - 30s 485ms/step - loss: 11.4016 - mean_absolute_error: 10.8043 - mean_squared_error: 250.3312 - val_loss: 7.9142 - val_mean_absolute_error: 7.3450 - val_mean_squared_error: 72.7862\n",
            "Epoch 5/40\n",
            "62/62 [==============================] - 30s 486ms/step - loss: 11.3727 - mean_absolute_error: 10.8226 - mean_squared_error: 221.5842 - val_loss: 7.6155 - val_mean_absolute_error: 7.0903 - val_mean_squared_error: 74.3774\n",
            "Epoch 6/40\n",
            "62/62 [==============================] - 30s 487ms/step - loss: 11.3007 - mean_absolute_error: 10.7927 - mean_squared_error: 219.6945 - val_loss: 7.8309 - val_mean_absolute_error: 7.3451 - val_mean_squared_error: 72.3957\n",
            "Epoch 7/40\n",
            "62/62 [==============================] - 30s 486ms/step - loss: 11.1826 - mean_absolute_error: 10.7118 - mean_squared_error: 227.1446 - val_loss: 8.0427 - val_mean_absolute_error: 7.5912 - val_mean_squared_error: 77.3656\n",
            "Epoch 8/40\n",
            "62/62 [==============================] - 30s 487ms/step - loss: 11.1969 - mean_absolute_error: 10.7578 - mean_squared_error: 233.5090 - val_loss: 7.9755 - val_mean_absolute_error: 7.5521 - val_mean_squared_error: 77.5590\n",
            "Epoch 9/40\n",
            "62/62 [==============================] - 30s 485ms/step - loss: 11.2256 - mean_absolute_error: 10.8130 - mean_squared_error: 233.1459 - val_loss: 7.8778 - val_mean_absolute_error: 7.4791 - val_mean_squared_error: 74.7186\n",
            "Epoch 10/40\n",
            "62/62 [==============================] - 30s 487ms/step - loss: 11.0888 - mean_absolute_error: 10.6999 - mean_squared_error: 229.6275 - val_loss: 8.0224 - val_mean_absolute_error: 7.6464 - val_mean_squared_error: 78.4349\n",
            "Epoch 11/40\n",
            "62/62 [==============================] - 30s 486ms/step - loss: 11.1010 - mean_absolute_error: 10.7335 - mean_squared_error: 230.0927 - val_loss: 8.0092 - val_mean_absolute_error: 7.6523 - val_mean_squared_error: 77.5098\n",
            "Epoch 12/40\n",
            "62/62 [==============================] - 30s 489ms/step - loss: 11.0530 - mean_absolute_error: 10.7027 - mean_squared_error: 226.7623 - val_loss: 7.7438 - val_mean_absolute_error: 7.4023 - val_mean_squared_error: 74.9023\n",
            "Epoch 13/40\n",
            "62/62 [==============================] - 30s 486ms/step - loss: 11.0973 - mean_absolute_error: 10.7624 - mean_squared_error: 222.4498 - val_loss: 7.7156 - val_mean_absolute_error: 7.3894 - val_mean_squared_error: 71.5587\n",
            "Epoch 14/40\n",
            "62/62 [==============================] - 30s 488ms/step - loss: 11.0111 - mean_absolute_error: 10.6892 - mean_squared_error: 220.3223 - val_loss: 7.5533 - val_mean_absolute_error: 7.2310 - val_mean_squared_error: 74.1229\n",
            "Epoch 15/40\n",
            "62/62 [==============================] - 30s 487ms/step - loss: 11.0335 - mean_absolute_error: 10.7054 - mean_squared_error: 227.6315 - val_loss: 7.7183 - val_mean_absolute_error: 7.3820 - val_mean_squared_error: 71.9381\n",
            "Epoch 16/40\n",
            "62/62 [==============================] - 30s 488ms/step - loss: 11.0672 - mean_absolute_error: 10.7277 - mean_squared_error: 230.9156 - val_loss: 7.8575 - val_mean_absolute_error: 7.5172 - val_mean_squared_error: 76.9215\n",
            "Epoch 17/40\n",
            "62/62 [==============================] - 30s 486ms/step - loss: 10.7676 - mean_absolute_error: 10.4301 - mean_squared_error: 229.0751 - val_loss: 7.7133 - val_mean_absolute_error: 7.3786 - val_mean_squared_error: 73.2599\n",
            "Epoch 18/40\n",
            "62/62 [==============================] - 30s 487ms/step - loss: 11.0633 - mean_absolute_error: 10.7237 - mean_squared_error: 230.7179 - val_loss: 7.5669 - val_mean_absolute_error: 7.2161 - val_mean_squared_error: 72.6745\n",
            "Epoch 19/40\n",
            "62/62 [==============================] - 30s 486ms/step - loss: 11.0888 - mean_absolute_error: 10.7328 - mean_squared_error: 222.2010 - val_loss: 7.4443 - val_mean_absolute_error: 7.0859 - val_mean_squared_error: 73.7574\n",
            "Epoch 20/40\n",
            "62/62 [==============================] - 30s 487ms/step - loss: 11.0351 - mean_absolute_error: 10.6799 - mean_squared_error: 220.5705 - val_loss: 7.5044 - val_mean_absolute_error: 7.1549 - val_mean_squared_error: 72.8620\n",
            "Epoch 21/40\n",
            "62/62 [==============================] - 30s 485ms/step - loss: 10.8919 - mean_absolute_error: 10.5462 - mean_squared_error: 221.9933 - val_loss: 7.4290 - val_mean_absolute_error: 7.0863 - val_mean_squared_error: 73.7851\n",
            "Epoch 22/40\n",
            "62/62 [==============================] - 30s 487ms/step - loss: 10.6255 - mean_absolute_error: 10.2837 - mean_squared_error: 212.5417 - val_loss: 7.5442 - val_mean_absolute_error: 7.2030 - val_mean_squared_error: 77.0007\n",
            "Epoch 23/40\n",
            "62/62 [==============================] - 30s 486ms/step - loss: 10.9115 - mean_absolute_error: 10.5680 - mean_squared_error: 213.5097 - val_loss: 8.0026 - val_mean_absolute_error: 7.6551 - val_mean_squared_error: 83.7882\n",
            "Epoch 24/40\n",
            "62/62 [==============================] - 30s 487ms/step - loss: 11.6962 - mean_absolute_error: 11.3446 - mean_squared_error: 227.9809 - val_loss: 7.6867 - val_mean_absolute_error: 7.3304 - val_mean_squared_error: 79.2459\n",
            "Epoch 25/40\n",
            "62/62 [==============================] - 30s 486ms/step - loss: 11.2900 - mean_absolute_error: 10.9324 - mean_squared_error: 217.9449 - val_loss: 7.4481 - val_mean_absolute_error: 7.0908 - val_mean_squared_error: 74.2977\n",
            "Epoch 26/40\n",
            "62/62 [==============================] - 30s 486ms/step - loss: 11.0548 - mean_absolute_error: 10.7008 - mean_squared_error: 226.8301 - val_loss: 7.6455 - val_mean_absolute_error: 7.2973 - val_mean_squared_error: 72.5483\n",
            "Epoch 27/40\n",
            "62/62 [==============================] - 30s 486ms/step - loss: 10.9992 - mean_absolute_error: 10.6563 - mean_squared_error: 223.1420 - val_loss: 7.4561 - val_mean_absolute_error: 7.1199 - val_mean_squared_error: 73.2002\n",
            "Epoch 28/40\n",
            "62/62 [==============================] - 30s 487ms/step - loss: 10.8560 - mean_absolute_error: 10.5234 - mean_squared_error: 221.9094 - val_loss: 7.4833 - val_mean_absolute_error: 7.1550 - val_mean_squared_error: 72.7768\n",
            "Epoch 29/40\n",
            "62/62 [==============================] - 30s 486ms/step - loss: 10.8216 - mean_absolute_error: 10.4937 - mean_squared_error: 220.0690 - val_loss: 6.4209 - val_mean_absolute_error: 6.0943 - val_mean_squared_error: 60.9634\n",
            "Epoch 30/40\n",
            "62/62 [==============================] - 30s 487ms/step - loss: 10.7508 - mean_absolute_error: 10.4258 - mean_squared_error: 211.7013 - val_loss: 7.2299 - val_mean_absolute_error: 6.9076 - val_mean_squared_error: 71.4326\n",
            "Epoch 31/40\n",
            "62/62 [==============================] - 30s 485ms/step - loss: 10.4543 - mean_absolute_error: 10.1334 - mean_squared_error: 215.1528 - val_loss: 8.0079 - val_mean_absolute_error: 7.6883 - val_mean_squared_error: 84.3187\n",
            "Epoch 32/40\n",
            "62/62 [==============================] - 30s 486ms/step - loss: 10.4642 - mean_absolute_error: 10.1420 - mean_squared_error: 216.6511 - val_loss: 8.3072 - val_mean_absolute_error: 7.9816 - val_mean_squared_error: 89.5012\n",
            "Epoch 33/40\n",
            "62/62 [==============================] - 30s 485ms/step - loss: 10.8030 - mean_absolute_error: 10.4767 - mean_squared_error: 201.6237 - val_loss: 7.6107 - val_mean_absolute_error: 7.2843 - val_mean_squared_error: 75.5668\n",
            "Epoch 34/40\n",
            "62/62 [==============================] - 30s 487ms/step - loss: 10.2689 - mean_absolute_error: 9.9429 - mean_squared_error: 197.5640 - val_loss: 7.5595 - val_mean_absolute_error: 7.2334 - val_mean_squared_error: 76.5224\n",
            "Epoch 35/40\n",
            "62/62 [==============================] - 30s 488ms/step - loss: 10.4884 - mean_absolute_error: 10.1624 - mean_squared_error: 203.5287 - val_loss: 7.2889 - val_mean_absolute_error: 6.9640 - val_mean_squared_error: 71.3105\n",
            "Epoch 36/40\n",
            "62/62 [==============================] - 30s 487ms/step - loss: 10.2736 - mean_absolute_error: 9.9500 - mean_squared_error: 196.0031 - val_loss: 8.2527 - val_mean_absolute_error: 7.9315 - val_mean_squared_error: 87.5285\n",
            "Epoch 37/40\n",
            "62/62 [==============================] - 30s 486ms/step - loss: 10.5952 - mean_absolute_error: 10.2758 - mean_squared_error: 196.5425 - val_loss: 9.0841 - val_mean_absolute_error: 8.7648 - val_mean_squared_error: 107.9846\n",
            "Epoch 38/40\n",
            "62/62 [==============================] - 30s 487ms/step - loss: 9.7308 - mean_absolute_error: 9.4097 - mean_squared_error: 181.1360 - val_loss: 9.1142 - val_mean_absolute_error: 8.7904 - val_mean_squared_error: 108.6445\n",
            "Epoch 39/40\n",
            "62/62 [==============================] - 30s 485ms/step - loss: 10.7633 - mean_absolute_error: 10.4315 - mean_squared_error: 257.7227 - val_loss: 8.3234 - val_mean_absolute_error: 7.9823 - val_mean_squared_error: 89.5320\n",
            "Epoch 40/40\n",
            "62/62 [==============================] - 30s 487ms/step - loss: 10.8388 - mean_absolute_error: 10.4926 - mean_squared_error: 210.1922 - val_loss: 7.8327 - val_mean_absolute_error: 7.4816 - val_mean_squared_error: 82.2705\n"
          ],
          "name": "stdout"
        },
        {
          "output_type": "execute_result",
          "data": {
            "text/plain": [
              "<keras.callbacks.callbacks.History at 0x7f9ee80541d0>"
            ]
          },
          "metadata": {
            "tags": []
          },
          "execution_count": 11
        }
      ]
    },
    {
      "cell_type": "code",
      "metadata": {
        "id": "0HcrVby71Shc",
        "colab_type": "code",
        "colab": {}
      },
      "source": [
        "base_model.save('/content/drive/My Drive/models/forehead_green_0.2')"
      ],
      "execution_count": null,
      "outputs": []
    },
    {
      "cell_type": "code",
      "metadata": {
        "id": "qKflWpKo6NJ0",
        "colab_type": "code",
        "colab": {
          "base_uri": "https://localhost:8080/",
          "height": 34
        },
        "outputId": "5114537e-db96-4cf2-be74-92037ff3b437"
      },
      "source": [
        "print(X_test_1.shape)"
      ],
      "execution_count": null,
      "outputs": [
        {
          "output_type": "stream",
          "text": [
            "(16, 9, 20, 60, 256, 3)\n"
          ],
          "name": "stdout"
        }
      ]
    },
    {
      "cell_type": "code",
      "metadata": {
        "id": "CYP2nFGh9mMI",
        "colab_type": "code",
        "colab": {}
      },
      "source": [
        "y_pred = base_model.predict(X_test_1)"
      ],
      "execution_count": null,
      "outputs": []
    },
    {
      "cell_type": "code",
      "metadata": {
        "id": "zWIUqf7z-8NP",
        "colab_type": "code",
        "colab": {
          "base_uri": "https://localhost:8080/",
          "height": 153
        },
        "outputId": "300ed427-5801-4a07-8c48-c476a7b27ae6"
      },
      "source": [
        "print(y_pred)"
      ],
      "execution_count": null,
      "outputs": [
        {
          "output_type": "stream",
          "text": [
            "[[73.47464]\n",
            " [74.52908]\n",
            " [74.00823]\n",
            " [73.91276]\n",
            " [74.47077]\n",
            " [74.06731]\n",
            " [74.22079]\n",
            " [74.02633]]\n"
          ],
          "name": "stdout"
        }
      ]
    },
    {
      "cell_type": "code",
      "metadata": {
        "id": "kZ3Z65pdKjIp",
        "colab_type": "code",
        "colab": {}
      },
      "source": [
        "from keras.models import load_model\n",
        "model = load_model('/content/drive/My Drive/models/forehead_green_0.2')\n",
        "y_pred = model.predict(X_test_1)"
      ],
      "execution_count": null,
      "outputs": []
    },
    {
      "cell_type": "code",
      "metadata": {
        "id": "7vX7HS1i-CMg",
        "colab_type": "code",
        "colab": {
          "base_uri": "https://localhost:8080/",
          "height": 68
        },
        "outputId": "0ab7a6c6-18f6-4fa9-ac1a-d3856fd2b53f"
      },
      "source": [
        "from sklearn.metrics import r2_score,mean_squared_error,mean_absolute_error\n",
        "score = r2_score(y_test,y_pred)\n",
        "RMSE = mean_squared_error(y_test,y_pred,squared=False)\n",
        "MAE = mean_absolute_error(y_test,y_pred)\n",
        "print(score)\n",
        "print(RMSE)\n",
        "print(MAE)"
      ],
      "execution_count": null,
      "outputs": [
        {
          "output_type": "stream",
          "text": [
            "0.32217835628591474\n",
            "10.851935361287827\n",
            "8.47829969577165\n"
          ],
          "name": "stdout"
        }
      ]
    },
    {
      "cell_type": "code",
      "metadata": {
        "id": "Ja17HOQtAKvm",
        "colab_type": "code",
        "colab": {
          "base_uri": "https://localhost:8080/",
          "height": 323
        },
        "outputId": "f414a7b8-08d9-4778-ba61-8b90d1ff57e6"
      },
      "source": [
        "input_1 = Input(shape=input_shape[1:])\n",
        "input_2 = Input(shape=input_shape[1:])\n",
        "\n",
        "hr1 = base_model(input_1)\n",
        "hr2 = base_model(input_2)\n",
        "hr = Average()([hr1,hr2])\n",
        "\n",
        "model = Model(inputs=[input_1,input_2],outputs=hr)\n",
        "model.summary()\n",
        "plot_model(model,to_file = 'model.png')\n",
        "model.compile(optimizer='adam',loss='mean_absolute_error',metrics=['mean_absolute_error','mean_squared_error'])"
      ],
      "execution_count": null,
      "outputs": [
        {
          "output_type": "stream",
          "text": [
            "Model: \"model_4\"\n",
            "__________________________________________________________________________________________________\n",
            "Layer (type)                    Output Shape         Param #     Connected to                     \n",
            "==================================================================================================\n",
            "input_3 (InputLayer)            (None, 9, 20, 60, 25 0                                            \n",
            "__________________________________________________________________________________________________\n",
            "input_4 (InputLayer)            (None, 9, 20, 60, 25 0                                            \n",
            "__________________________________________________________________________________________________\n",
            "model_3 (Model)                 (None, 1)            39511297    input_3[0][0]                    \n",
            "                                                                 input_4[0][0]                    \n",
            "__________________________________________________________________________________________________\n",
            "average_1 (Average)             (None, 1)            0           model_3[1][0]                    \n",
            "                                                                 model_3[2][0]                    \n",
            "==================================================================================================\n",
            "Total params: 39,511,297\n",
            "Trainable params: 39,503,489\n",
            "Non-trainable params: 7,808\n",
            "__________________________________________________________________________________________________\n"
          ],
          "name": "stdout"
        }
      ]
    },
    {
      "cell_type": "code",
      "metadata": {
        "id": "mZBPBnewzVYu",
        "colab_type": "code",
        "colab": {
          "base_uri": "https://localhost:8080/",
          "height": 1000
        },
        "outputId": "ab432565-cd55-4339-e8c1-6f25bde7cb7f"
      },
      "source": [
        "callbacks=[]\n",
        "model_path = '/content/drive/My Drive/Heart Rate Using Deep Learning/model_1.hdf5'\n",
        "earlystopping = EarlyStopping(monitor='mean_absolute_error',patience=10,mode='auto',restore_best_weights=True)\n",
        "# modelcheckpoint = ModelCheckpoint(model_path, save_best_only=True, monitor='mean_absolute_error', mode='auto')\n",
        "# callbacks.append(modelcheckpoint)\n",
        "callbacks.append(earlystopping)\n",
        "model.fit([X_train_1,X_train_2], y_train.reshape(-1,1),epochs=30, batch_size=2, validation_split = 0.2,shuffle=True,callbacks=callbacks)"
      ],
      "execution_count": null,
      "outputs": [
        {
          "output_type": "stream",
          "text": [
            "Train on 61 samples, validate on 16 samples\n",
            "Epoch 1/30\n",
            "61/61 [==============================] - 49s 803ms/step - loss: 30.8754 - mean_absolute_error: 30.1090 - mean_squared_error: 1432.8157 - val_loss: 6.6602 - val_mean_absolute_error: 6.0275 - val_mean_squared_error: 54.1590\n",
            "Epoch 2/30\n",
            "61/61 [==============================] - 35s 567ms/step - loss: 13.0335 - mean_absolute_error: 12.4673 - mean_squared_error: 284.2149 - val_loss: 6.9229 - val_mean_absolute_error: 6.4216 - val_mean_squared_error: 50.0460\n",
            "Epoch 3/30\n",
            "61/61 [==============================] - 34s 565ms/step - loss: 12.1258 - mean_absolute_error: 11.6672 - mean_squared_error: 246.6026 - val_loss: 7.2436 - val_mean_absolute_error: 6.8259 - val_mean_squared_error: 55.3981\n",
            "Epoch 4/30\n",
            "61/61 [==============================] - 35s 566ms/step - loss: 12.2622 - mean_absolute_error: 11.8763 - mean_squared_error: 274.5075 - val_loss: 7.2084 - val_mean_absolute_error: 6.8544 - val_mean_squared_error: 58.1263\n",
            "Epoch 5/30\n",
            "61/61 [==============================] - 35s 572ms/step - loss: 11.9909 - mean_absolute_error: 11.6614 - mean_squared_error: 244.1811 - val_loss: 7.3278 - val_mean_absolute_error: 7.0233 - val_mean_squared_error: 68.6135\n",
            "Epoch 6/30\n",
            "61/61 [==============================] - 35s 577ms/step - loss: 12.1187 - mean_absolute_error: 11.8328 - mean_squared_error: 264.0953 - val_loss: 7.0589 - val_mean_absolute_error: 6.7898 - val_mean_squared_error: 52.5411\n",
            "Epoch 7/30\n",
            "61/61 [==============================] - 35s 578ms/step - loss: 12.2360 - mean_absolute_error: 11.9772 - mean_squared_error: 242.8699 - val_loss: 7.8034 - val_mean_absolute_error: 7.5566 - val_mean_squared_error: 86.6621\n",
            "Epoch 8/30\n",
            "61/61 [==============================] - 36s 583ms/step - loss: 12.1114 - mean_absolute_error: 11.8745 - mean_squared_error: 259.5600 - val_loss: 6.8708 - val_mean_absolute_error: 6.6397 - val_mean_squared_error: 48.5379\n",
            "Epoch 9/30\n",
            "61/61 [==============================] - 35s 578ms/step - loss: 11.8125 - mean_absolute_error: 11.5862 - mean_squared_error: 246.5374 - val_loss: 7.5377 - val_mean_absolute_error: 7.3224 - val_mean_squared_error: 65.0517\n",
            "Epoch 10/30\n",
            "61/61 [==============================] - 35s 582ms/step - loss: 11.5884 - mean_absolute_error: 11.2974 - mean_squared_error: 242.2862 - val_loss: 7.3185 - val_mean_absolute_error: 6.9248 - val_mean_squared_error: 67.3017\n",
            "Epoch 11/30\n",
            "61/61 [==============================] - 35s 580ms/step - loss: 12.2610 - mean_absolute_error: 11.8785 - mean_squared_error: 246.9389 - val_loss: 7.3006 - val_mean_absolute_error: 6.9546 - val_mean_squared_error: 66.9742\n",
            "Epoch 12/30\n",
            "61/61 [==============================] - 35s 581ms/step - loss: 11.7961 - mean_absolute_error: 11.4809 - mean_squared_error: 257.4348 - val_loss: 7.2513 - val_mean_absolute_error: 6.9615 - val_mean_squared_error: 61.3306\n",
            "Epoch 13/30\n",
            "61/61 [==============================] - 35s 577ms/step - loss: 11.9119 - mean_absolute_error: 11.6331 - mean_squared_error: 244.0591 - val_loss: 6.0436 - val_mean_absolute_error: 5.7751 - val_mean_squared_error: 39.0034\n",
            "Epoch 14/30\n",
            "61/61 [==============================] - 35s 576ms/step - loss: 12.0009 - mean_absolute_error: 11.7425 - mean_squared_error: 246.8368 - val_loss: 6.4454 - val_mean_absolute_error: 6.1957 - val_mean_squared_error: 50.3034\n",
            "Epoch 15/30\n",
            "61/61 [==============================] - 35s 576ms/step - loss: 11.8843 - mean_absolute_error: 11.6403 - mean_squared_error: 250.3101 - val_loss: 7.4485 - val_mean_absolute_error: 7.2110 - val_mean_squared_error: 67.3627\n",
            "Epoch 16/30\n",
            "61/61 [==============================] - 35s 577ms/step - loss: 11.6152 - mean_absolute_error: 11.3831 - mean_squared_error: 231.6558 - val_loss: 8.1677 - val_mean_absolute_error: 7.9328 - val_mean_squared_error: 78.8039\n",
            "Epoch 17/30\n",
            "61/61 [==============================] - 35s 580ms/step - loss: 11.6217 - mean_absolute_error: 11.3800 - mean_squared_error: 243.4973 - val_loss: 7.3222 - val_mean_absolute_error: 7.0759 - val_mean_squared_error: 62.2197\n",
            "Epoch 18/30\n",
            "61/61 [==============================] - 35s 577ms/step - loss: 11.6155 - mean_absolute_error: 11.3779 - mean_squared_error: 240.7400 - val_loss: 6.5798 - val_mean_absolute_error: 6.3527 - val_mean_squared_error: 44.3181\n",
            "Epoch 19/30\n",
            "61/61 [==============================] - 35s 574ms/step - loss: 11.3191 - mean_absolute_error: 11.1007 - mean_squared_error: 238.9193 - val_loss: 7.4980 - val_mean_absolute_error: 7.2875 - val_mean_squared_error: 63.5954\n",
            "Epoch 20/30\n",
            "61/61 [==============================] - 36s 582ms/step - loss: 11.5945 - mean_absolute_error: 11.3883 - mean_squared_error: 248.0201 - val_loss: 8.0026 - val_mean_absolute_error: 7.8013 - val_mean_squared_error: 74.1960\n",
            "Epoch 21/30\n",
            "61/61 [==============================] - 35s 580ms/step - loss: 11.3568 - mean_absolute_error: 11.1564 - mean_squared_error: 229.6000 - val_loss: 9.2580 - val_mean_absolute_error: 9.0585 - val_mean_squared_error: 116.6434\n",
            "Epoch 22/30\n",
            "61/61 [==============================] - 35s 579ms/step - loss: 11.6519 - mean_absolute_error: 11.4550 - mean_squared_error: 239.8029 - val_loss: 7.5271 - val_mean_absolute_error: 7.3323 - val_mean_squared_error: 79.6955\n",
            "Epoch 23/30\n",
            "61/61 [==============================] - 35s 579ms/step - loss: 11.3202 - mean_absolute_error: 11.1271 - mean_squared_error: 256.0931 - val_loss: 7.6578 - val_mean_absolute_error: 7.4675 - val_mean_squared_error: 67.6352\n",
            "Epoch 24/30\n",
            "61/61 [==============================] - 35s 581ms/step - loss: 11.7663 - mean_absolute_error: 11.5788 - mean_squared_error: 245.8211 - val_loss: 8.4866 - val_mean_absolute_error: 8.3023 - val_mean_squared_error: 103.6533\n",
            "Epoch 25/30\n",
            "61/61 [==============================] - 35s 579ms/step - loss: 11.7676 - mean_absolute_error: 11.5828 - mean_squared_error: 266.2160 - val_loss: 8.7300 - val_mean_absolute_error: 8.5444 - val_mean_squared_error: 99.6349\n",
            "Epoch 26/30\n",
            "61/61 [==============================] - 35s 581ms/step - loss: 11.4014 - mean_absolute_error: 11.2187 - mean_squared_error: 222.8295 - val_loss: 8.0703 - val_mean_absolute_error: 7.8888 - val_mean_squared_error: 90.7868\n",
            "Epoch 27/30\n",
            "61/61 [==============================] - 35s 580ms/step - loss: 12.2116 - mean_absolute_error: 12.0281 - mean_squared_error: 245.0372 - val_loss: 9.1606 - val_mean_absolute_error: 8.9736 - val_mean_squared_error: 96.4010\n",
            "Epoch 28/30\n",
            "26/61 [===========>..................] - ETA: 18s - loss: 11.5863 - mean_absolute_error: 11.3986 - mean_squared_error: 280.3434"
          ],
          "name": "stdout"
        },
        {
          "output_type": "error",
          "ename": "KeyboardInterrupt",
          "evalue": "ignored",
          "traceback": [
            "\u001b[0;31m---------------------------------------------------------------------------\u001b[0m",
            "\u001b[0;31mKeyboardInterrupt\u001b[0m                         Traceback (most recent call last)",
            "\u001b[0;32m<ipython-input-9-9d181c23ccb1>\u001b[0m in \u001b[0;36m<module>\u001b[0;34m()\u001b[0m\n\u001b[1;32m      5\u001b[0m \u001b[0;31m# callbacks.append(modelcheckpoint)\u001b[0m\u001b[0;34m\u001b[0m\u001b[0;34m\u001b[0m\u001b[0;34m\u001b[0m\u001b[0m\n\u001b[1;32m      6\u001b[0m \u001b[0mcallbacks\u001b[0m\u001b[0;34m.\u001b[0m\u001b[0mappend\u001b[0m\u001b[0;34m(\u001b[0m\u001b[0mearlystopping\u001b[0m\u001b[0;34m)\u001b[0m\u001b[0;34m\u001b[0m\u001b[0;34m\u001b[0m\u001b[0m\n\u001b[0;32m----> 7\u001b[0;31m \u001b[0mmodel\u001b[0m\u001b[0;34m.\u001b[0m\u001b[0mfit\u001b[0m\u001b[0;34m(\u001b[0m\u001b[0;34m[\u001b[0m\u001b[0mX_train_1\u001b[0m\u001b[0;34m,\u001b[0m\u001b[0mX_train_2\u001b[0m\u001b[0;34m]\u001b[0m\u001b[0;34m,\u001b[0m \u001b[0my_train\u001b[0m\u001b[0;34m.\u001b[0m\u001b[0mreshape\u001b[0m\u001b[0;34m(\u001b[0m\u001b[0;34m-\u001b[0m\u001b[0;36m1\u001b[0m\u001b[0;34m,\u001b[0m\u001b[0;36m1\u001b[0m\u001b[0;34m)\u001b[0m\u001b[0;34m,\u001b[0m\u001b[0mepochs\u001b[0m\u001b[0;34m=\u001b[0m\u001b[0;36m30\u001b[0m\u001b[0;34m,\u001b[0m \u001b[0mbatch_size\u001b[0m\u001b[0;34m=\u001b[0m\u001b[0;36m2\u001b[0m\u001b[0;34m,\u001b[0m \u001b[0mvalidation_split\u001b[0m \u001b[0;34m=\u001b[0m \u001b[0;36m0.2\u001b[0m\u001b[0;34m,\u001b[0m\u001b[0mshuffle\u001b[0m\u001b[0;34m=\u001b[0m\u001b[0;32mTrue\u001b[0m\u001b[0;34m,\u001b[0m\u001b[0mcallbacks\u001b[0m\u001b[0;34m=\u001b[0m\u001b[0mcallbacks\u001b[0m\u001b[0;34m)\u001b[0m\u001b[0;34m\u001b[0m\u001b[0;34m\u001b[0m\u001b[0m\n\u001b[0m",
            "\u001b[0;32m/usr/local/lib/python3.6/dist-packages/keras/engine/training.py\u001b[0m in \u001b[0;36mfit\u001b[0;34m(self, x, y, batch_size, epochs, verbose, callbacks, validation_split, validation_data, shuffle, class_weight, sample_weight, initial_epoch, steps_per_epoch, validation_steps, validation_freq, max_queue_size, workers, use_multiprocessing, **kwargs)\u001b[0m\n\u001b[1;32m   1237\u001b[0m                                         \u001b[0msteps_per_epoch\u001b[0m\u001b[0;34m=\u001b[0m\u001b[0msteps_per_epoch\u001b[0m\u001b[0;34m,\u001b[0m\u001b[0;34m\u001b[0m\u001b[0;34m\u001b[0m\u001b[0m\n\u001b[1;32m   1238\u001b[0m                                         \u001b[0mvalidation_steps\u001b[0m\u001b[0;34m=\u001b[0m\u001b[0mvalidation_steps\u001b[0m\u001b[0;34m,\u001b[0m\u001b[0;34m\u001b[0m\u001b[0;34m\u001b[0m\u001b[0m\n\u001b[0;32m-> 1239\u001b[0;31m                                         validation_freq=validation_freq)\n\u001b[0m\u001b[1;32m   1240\u001b[0m \u001b[0;34m\u001b[0m\u001b[0m\n\u001b[1;32m   1241\u001b[0m     def evaluate(self,\n",
            "\u001b[0;32m/usr/local/lib/python3.6/dist-packages/keras/engine/training_arrays.py\u001b[0m in \u001b[0;36mfit_loop\u001b[0;34m(model, fit_function, fit_inputs, out_labels, batch_size, epochs, verbose, callbacks, val_function, val_inputs, shuffle, initial_epoch, steps_per_epoch, validation_steps, validation_freq)\u001b[0m\n\u001b[1;32m    194\u001b[0m                     \u001b[0mins_batch\u001b[0m\u001b[0;34m[\u001b[0m\u001b[0mi\u001b[0m\u001b[0;34m]\u001b[0m \u001b[0;34m=\u001b[0m \u001b[0mins_batch\u001b[0m\u001b[0;34m[\u001b[0m\u001b[0mi\u001b[0m\u001b[0;34m]\u001b[0m\u001b[0;34m.\u001b[0m\u001b[0mtoarray\u001b[0m\u001b[0;34m(\u001b[0m\u001b[0;34m)\u001b[0m\u001b[0;34m\u001b[0m\u001b[0;34m\u001b[0m\u001b[0m\n\u001b[1;32m    195\u001b[0m \u001b[0;34m\u001b[0m\u001b[0m\n\u001b[0;32m--> 196\u001b[0;31m                 \u001b[0mouts\u001b[0m \u001b[0;34m=\u001b[0m \u001b[0mfit_function\u001b[0m\u001b[0;34m(\u001b[0m\u001b[0mins_batch\u001b[0m\u001b[0;34m)\u001b[0m\u001b[0;34m\u001b[0m\u001b[0;34m\u001b[0m\u001b[0m\n\u001b[0m\u001b[1;32m    197\u001b[0m                 \u001b[0mouts\u001b[0m \u001b[0;34m=\u001b[0m \u001b[0mto_list\u001b[0m\u001b[0;34m(\u001b[0m\u001b[0mouts\u001b[0m\u001b[0;34m)\u001b[0m\u001b[0;34m\u001b[0m\u001b[0;34m\u001b[0m\u001b[0m\n\u001b[1;32m    198\u001b[0m                 \u001b[0;32mfor\u001b[0m \u001b[0ml\u001b[0m\u001b[0;34m,\u001b[0m \u001b[0mo\u001b[0m \u001b[0;32min\u001b[0m \u001b[0mzip\u001b[0m\u001b[0;34m(\u001b[0m\u001b[0mout_labels\u001b[0m\u001b[0;34m,\u001b[0m \u001b[0mouts\u001b[0m\u001b[0;34m)\u001b[0m\u001b[0;34m:\u001b[0m\u001b[0;34m\u001b[0m\u001b[0;34m\u001b[0m\u001b[0m\n",
            "\u001b[0;32m/usr/local/lib/python3.6/dist-packages/tensorflow/python/keras/backend.py\u001b[0m in \u001b[0;36m__call__\u001b[0;34m(self, inputs)\u001b[0m\n\u001b[1;32m   3790\u001b[0m         \u001b[0mvalue\u001b[0m \u001b[0;34m=\u001b[0m \u001b[0mmath_ops\u001b[0m\u001b[0;34m.\u001b[0m\u001b[0mcast\u001b[0m\u001b[0;34m(\u001b[0m\u001b[0mvalue\u001b[0m\u001b[0;34m,\u001b[0m \u001b[0mtensor\u001b[0m\u001b[0;34m.\u001b[0m\u001b[0mdtype\u001b[0m\u001b[0;34m)\u001b[0m\u001b[0;34m\u001b[0m\u001b[0;34m\u001b[0m\u001b[0m\n\u001b[1;32m   3791\u001b[0m       \u001b[0mconverted_inputs\u001b[0m\u001b[0;34m.\u001b[0m\u001b[0mappend\u001b[0m\u001b[0;34m(\u001b[0m\u001b[0mvalue\u001b[0m\u001b[0;34m)\u001b[0m\u001b[0;34m\u001b[0m\u001b[0;34m\u001b[0m\u001b[0m\n\u001b[0;32m-> 3792\u001b[0;31m     \u001b[0moutputs\u001b[0m \u001b[0;34m=\u001b[0m \u001b[0mself\u001b[0m\u001b[0;34m.\u001b[0m\u001b[0m_graph_fn\u001b[0m\u001b[0;34m(\u001b[0m\u001b[0;34m*\u001b[0m\u001b[0mconverted_inputs\u001b[0m\u001b[0;34m)\u001b[0m\u001b[0;34m\u001b[0m\u001b[0;34m\u001b[0m\u001b[0m\n\u001b[0m\u001b[1;32m   3793\u001b[0m \u001b[0;34m\u001b[0m\u001b[0m\n\u001b[1;32m   3794\u001b[0m     \u001b[0;31m# EagerTensor.numpy() will often make a copy to ensure memory safety.\u001b[0m\u001b[0;34m\u001b[0m\u001b[0;34m\u001b[0m\u001b[0;34m\u001b[0m\u001b[0m\n",
            "\u001b[0;32m/usr/local/lib/python3.6/dist-packages/tensorflow/python/eager/function.py\u001b[0m in \u001b[0;36m__call__\u001b[0;34m(self, *args, **kwargs)\u001b[0m\n\u001b[1;32m   1603\u001b[0m       \u001b[0mTypeError\u001b[0m\u001b[0;34m:\u001b[0m \u001b[0mFor\u001b[0m \u001b[0minvalid\u001b[0m \u001b[0mpositional\u001b[0m\u001b[0;34m/\u001b[0m\u001b[0mkeyword\u001b[0m \u001b[0margument\u001b[0m \u001b[0mcombinations\u001b[0m\u001b[0;34m.\u001b[0m\u001b[0;34m\u001b[0m\u001b[0;34m\u001b[0m\u001b[0m\n\u001b[1;32m   1604\u001b[0m     \"\"\"\n\u001b[0;32m-> 1605\u001b[0;31m     \u001b[0;32mreturn\u001b[0m \u001b[0mself\u001b[0m\u001b[0;34m.\u001b[0m\u001b[0m_call_impl\u001b[0m\u001b[0;34m(\u001b[0m\u001b[0margs\u001b[0m\u001b[0;34m,\u001b[0m \u001b[0mkwargs\u001b[0m\u001b[0;34m)\u001b[0m\u001b[0;34m\u001b[0m\u001b[0;34m\u001b[0m\u001b[0m\n\u001b[0m\u001b[1;32m   1606\u001b[0m \u001b[0;34m\u001b[0m\u001b[0m\n\u001b[1;32m   1607\u001b[0m   \u001b[0;32mdef\u001b[0m \u001b[0m_call_impl\u001b[0m\u001b[0;34m(\u001b[0m\u001b[0mself\u001b[0m\u001b[0;34m,\u001b[0m \u001b[0margs\u001b[0m\u001b[0;34m,\u001b[0m \u001b[0mkwargs\u001b[0m\u001b[0;34m,\u001b[0m \u001b[0mcancellation_manager\u001b[0m\u001b[0;34m=\u001b[0m\u001b[0;32mNone\u001b[0m\u001b[0;34m)\u001b[0m\u001b[0;34m:\u001b[0m\u001b[0;34m\u001b[0m\u001b[0;34m\u001b[0m\u001b[0m\n",
            "\u001b[0;32m/usr/local/lib/python3.6/dist-packages/tensorflow/python/eager/function.py\u001b[0m in \u001b[0;36m_call_impl\u001b[0;34m(self, args, kwargs, cancellation_manager)\u001b[0m\n\u001b[1;32m   1643\u001b[0m       raise TypeError(\"Keyword arguments {} unknown. Expected {}.\".format(\n\u001b[1;32m   1644\u001b[0m           list(kwargs.keys()), list(self._arg_keywords)))\n\u001b[0;32m-> 1645\u001b[0;31m     \u001b[0;32mreturn\u001b[0m \u001b[0mself\u001b[0m\u001b[0;34m.\u001b[0m\u001b[0m_call_flat\u001b[0m\u001b[0;34m(\u001b[0m\u001b[0margs\u001b[0m\u001b[0;34m,\u001b[0m \u001b[0mself\u001b[0m\u001b[0;34m.\u001b[0m\u001b[0mcaptured_inputs\u001b[0m\u001b[0;34m,\u001b[0m \u001b[0mcancellation_manager\u001b[0m\u001b[0;34m)\u001b[0m\u001b[0;34m\u001b[0m\u001b[0;34m\u001b[0m\u001b[0m\n\u001b[0m\u001b[1;32m   1646\u001b[0m \u001b[0;34m\u001b[0m\u001b[0m\n\u001b[1;32m   1647\u001b[0m   \u001b[0;32mdef\u001b[0m \u001b[0m_filtered_call\u001b[0m\u001b[0;34m(\u001b[0m\u001b[0mself\u001b[0m\u001b[0;34m,\u001b[0m \u001b[0margs\u001b[0m\u001b[0;34m,\u001b[0m \u001b[0mkwargs\u001b[0m\u001b[0;34m)\u001b[0m\u001b[0;34m:\u001b[0m\u001b[0;34m\u001b[0m\u001b[0;34m\u001b[0m\u001b[0m\n",
            "\u001b[0;32m/usr/local/lib/python3.6/dist-packages/tensorflow/python/eager/function.py\u001b[0m in \u001b[0;36m_call_flat\u001b[0;34m(self, args, captured_inputs, cancellation_manager)\u001b[0m\n\u001b[1;32m   1744\u001b[0m       \u001b[0;31m# No tape is watching; skip to running the function.\u001b[0m\u001b[0;34m\u001b[0m\u001b[0;34m\u001b[0m\u001b[0;34m\u001b[0m\u001b[0m\n\u001b[1;32m   1745\u001b[0m       return self._build_call_outputs(self._inference_function.call(\n\u001b[0;32m-> 1746\u001b[0;31m           ctx, args, cancellation_manager=cancellation_manager))\n\u001b[0m\u001b[1;32m   1747\u001b[0m     forward_backward = self._select_forward_and_backward_functions(\n\u001b[1;32m   1748\u001b[0m         \u001b[0margs\u001b[0m\u001b[0;34m,\u001b[0m\u001b[0;34m\u001b[0m\u001b[0;34m\u001b[0m\u001b[0m\n",
            "\u001b[0;32m/usr/local/lib/python3.6/dist-packages/tensorflow/python/eager/function.py\u001b[0m in \u001b[0;36mcall\u001b[0;34m(self, ctx, args, cancellation_manager)\u001b[0m\n\u001b[1;32m    596\u001b[0m               \u001b[0minputs\u001b[0m\u001b[0;34m=\u001b[0m\u001b[0margs\u001b[0m\u001b[0;34m,\u001b[0m\u001b[0;34m\u001b[0m\u001b[0;34m\u001b[0m\u001b[0m\n\u001b[1;32m    597\u001b[0m               \u001b[0mattrs\u001b[0m\u001b[0;34m=\u001b[0m\u001b[0mattrs\u001b[0m\u001b[0;34m,\u001b[0m\u001b[0;34m\u001b[0m\u001b[0;34m\u001b[0m\u001b[0m\n\u001b[0;32m--> 598\u001b[0;31m               ctx=ctx)\n\u001b[0m\u001b[1;32m    599\u001b[0m         \u001b[0;32melse\u001b[0m\u001b[0;34m:\u001b[0m\u001b[0;34m\u001b[0m\u001b[0;34m\u001b[0m\u001b[0m\n\u001b[1;32m    600\u001b[0m           outputs = execute.execute_with_cancellation(\n",
            "\u001b[0;32m/usr/local/lib/python3.6/dist-packages/tensorflow/python/eager/execute.py\u001b[0m in \u001b[0;36mquick_execute\u001b[0;34m(op_name, num_outputs, inputs, attrs, ctx, name)\u001b[0m\n\u001b[1;32m     58\u001b[0m     \u001b[0mctx\u001b[0m\u001b[0;34m.\u001b[0m\u001b[0mensure_initialized\u001b[0m\u001b[0;34m(\u001b[0m\u001b[0;34m)\u001b[0m\u001b[0;34m\u001b[0m\u001b[0;34m\u001b[0m\u001b[0m\n\u001b[1;32m     59\u001b[0m     tensors = pywrap_tfe.TFE_Py_Execute(ctx._handle, device_name, op_name,\n\u001b[0;32m---> 60\u001b[0;31m                                         inputs, attrs, num_outputs)\n\u001b[0m\u001b[1;32m     61\u001b[0m   \u001b[0;32mexcept\u001b[0m \u001b[0mcore\u001b[0m\u001b[0;34m.\u001b[0m\u001b[0m_NotOkStatusException\u001b[0m \u001b[0;32mas\u001b[0m \u001b[0me\u001b[0m\u001b[0;34m:\u001b[0m\u001b[0;34m\u001b[0m\u001b[0;34m\u001b[0m\u001b[0m\n\u001b[1;32m     62\u001b[0m     \u001b[0;32mif\u001b[0m \u001b[0mname\u001b[0m \u001b[0;32mis\u001b[0m \u001b[0;32mnot\u001b[0m \u001b[0;32mNone\u001b[0m\u001b[0;34m:\u001b[0m\u001b[0;34m\u001b[0m\u001b[0;34m\u001b[0m\u001b[0m\n",
            "\u001b[0;31mKeyboardInterrupt\u001b[0m: "
          ]
        }
      ]
    },
    {
      "cell_type": "code",
      "metadata": {
        "id": "djfI8gf6xXbd",
        "colab_type": "code",
        "colab": {}
      },
      "source": [
        ""
      ],
      "execution_count": null,
      "outputs": []
    }
  ]
}